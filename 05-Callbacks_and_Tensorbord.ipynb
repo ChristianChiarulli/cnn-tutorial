{
 "cells": [
  {
   "cell_type": "markdown",
   "metadata": {},
   "source": [
    "# Callbacks and Tensorboard\n",
    "\n",
    "We'll go over various callbacks such as:\n",
    "\n",
    "* Early Stopping\n",
    "* History (Especially useful for functional models)\n",
    "* Model History\n",
    "* Tensorboard\n",
    "* Model Accuracy and Loss Graphs"
   ]
  },
  {
   "cell_type": "code",
   "execution_count": 13,
   "metadata": {},
   "outputs": [
    {
     "data": {
      "text/plain": [
       "'2.2.4-tf'"
      ]
     },
     "execution_count": 13,
     "metadata": {},
     "output_type": "execute_result"
    }
   ],
   "source": [
    "import tensorflow\n",
    "import tensorflow.keras as keras\n",
    "from tensorflow.keras.preprocessing.image import ImageDataGenerator\n",
    "from tensorflow.keras.applications import ResNet50\n",
    "from tensorflow.keras.applications.resnet50 import preprocess_input\n",
    "from tensorflow.keras import Model, layers\n",
    "from tensorflow.keras.models import load_model, model_from_json\n",
    "tensorflow.keras.__version__"
   ]
  },
  {
   "cell_type": "code",
   "execution_count": 14,
   "metadata": {},
   "outputs": [],
   "source": [
    "train_datagen = ImageDataGenerator(\n",
    "    shear_range=10,\n",
    "    zoom_range=0.2,\n",
    "    horizontal_flip=True,\n",
    "    vertical_flip=True,\n",
    "    preprocessing_function=preprocess_input)"
   ]
  },
  {
   "cell_type": "code",
   "execution_count": 15,
   "metadata": {},
   "outputs": [
    {
     "name": "stdout",
     "output_type": "stream",
     "text": [
      "Found 12894 images belonging to 10 classes.\n"
     ]
    }
   ],
   "source": [
    "train_generator = train_datagen.flow_from_directory(\n",
    "    'data/train',\n",
    "    batch_size=32,\n",
    "    class_mode='categorical',\n",
    "    target_size=(224, 224))"
   ]
  },
  {
   "cell_type": "code",
   "execution_count": 16,
   "metadata": {},
   "outputs": [
    {
     "name": "stdout",
     "output_type": "stream",
     "text": [
      "Found 500 images belonging to 10 classes.\n"
     ]
    }
   ],
   "source": [
    "validation_datagen = ImageDataGenerator(preprocessing_function=preprocess_input)\n",
    "validation_generator = validation_datagen.flow_from_directory(\n",
    "    'data/val',\n",
    "    shuffle=False,\n",
    "    class_mode='categorical',\n",
    "    target_size=(224, 224))"
   ]
  },
  {
   "cell_type": "code",
   "execution_count": 17,
   "metadata": {},
   "outputs": [],
   "source": [
    "conv_base = ResNet50(include_top=False, weights='imagenet')"
   ]
  },
  {
   "cell_type": "code",
   "execution_count": 18,
   "metadata": {},
   "outputs": [],
   "source": [
    "# Freeze all of the base layers\n",
    "for layer in conv_base.layers:\n",
    "    layer.trainable = False# Freeze all of the base layers"
   ]
  },
  {
   "cell_type": "code",
   "execution_count": 19,
   "metadata": {},
   "outputs": [],
   "source": [
    "x  = conv_base.output\n",
    "x = layers.GlobalAveragePooling2D()(x)\n",
    "\n",
    "predictions = layers.Dense(10, activation='softmax', name='fc3')(x)"
   ]
  },
  {
   "cell_type": "code",
   "execution_count": 20,
   "metadata": {},
   "outputs": [],
   "source": [
    "model = Model(conv_base.input, predictions)"
   ]
  },
  {
   "cell_type": "code",
   "execution_count": 21,
   "metadata": {},
   "outputs": [],
   "source": [
    "#model.summary()"
   ]
  },
  {
   "cell_type": "code",
   "execution_count": 22,
   "metadata": {},
   "outputs": [],
   "source": [
    "opt = tensorflow.keras.optimizers.Adam()\n",
    "model.compile(loss='categorical_crossentropy',\n",
    "              optimizer=opt,\n",
    "              metrics=['accuracy'])"
   ]
  },
  {
   "cell_type": "markdown",
   "metadata": {},
   "source": [
    "## Callbacks\n",
    "\n",
    "Callbacks are a good way to:\n",
    "\n",
    "* get feedback about training while training\n",
    "* save history for analysis\n",
    "* checkpoint save your model whenever performance increases\n",
    "\n",
    "You can use Tensorboard for advanced diagnostics and graph view\n",
    "\n",
    "You will need this command for Tensorboard: `logdir=graph/ --host 0.0.0.0 --port 8999`"
   ]
  },
  {
   "cell_type": "code",
   "execution_count": 23,
   "metadata": {},
   "outputs": [],
   "source": [
    "filepath = 'models/weights.{epoch:02d}-{val_loss:.2f}.hdf5'\n",
    "\n",
    "stopping_criterion = keras.callbacks.EarlyStopping(monitor='val_accuracy', patience=2)\n",
    "\n",
    "history = keras.callbacks.History()\n",
    "\n",
    "checkpoint = keras.callbacks.ModelCheckpoint(filepath, monitor='val_accuracy', verbose=1, save_best_only=True)\n",
    "\n",
    "tensorboard = keras.callbacks.TensorBoard(log_dir='graph', histogram_freq=0, write_graph=True)\n",
    "\n",
    "callbacks = [stopping_criterion, history, checkpoint, tensorboard]"
   ]
  },
  {
   "cell_type": "code",
   "execution_count": 24,
   "metadata": {},
   "outputs": [
    {
     "name": "stdout",
     "output_type": "stream",
     "text": [
      "Epoch 1/4\n",
      "402/403 [============================>.] - ETA: 0s - loss: 0.3583 - accuracy: 0.8905\n",
      "Epoch 00001: val_accuracy improved from -inf to 0.95800, saving model to models/weights.01-0.14.hdf5\n",
      "403/403 [==============================] - 155s 386ms/step - loss: 0.3587 - accuracy: 0.8903 - val_loss: 0.1362 - val_accuracy: 0.9580\n",
      "Epoch 2/4\n",
      "402/403 [============================>.] - ETA: 0s - loss: 0.1832 - accuracy: 0.9418\n",
      "Epoch 00002: val_accuracy improved from 0.95800 to 0.96000, saving model to models/weights.02-0.13.hdf5\n",
      "403/403 [==============================] - 151s 376ms/step - loss: 0.1831 - accuracy: 0.9419 - val_loss: 0.1272 - val_accuracy: 0.9600\n",
      "Epoch 3/4\n",
      "402/403 [============================>.] - ETA: 0s - loss: 0.1529 - accuracy: 0.9510\n",
      "Epoch 00003: val_accuracy did not improve from 0.96000\n",
      "403/403 [==============================] - 153s 380ms/step - loss: 0.1527 - accuracy: 0.9511 - val_loss: 0.1375 - val_accuracy: 0.9580\n",
      "Epoch 4/4\n",
      "402/403 [============================>.] - ETA: 0s - loss: 0.1451 - accuracy: 0.9530\n",
      "Epoch 00004: val_accuracy improved from 0.96000 to 0.96400, saving model to models/weights.04-0.12.hdf5\n",
      "403/403 [==============================] - 155s 384ms/step - loss: 0.1449 - accuracy: 0.9531 - val_loss: 0.1166 - val_accuracy: 0.9640\n"
     ]
    }
   ],
   "source": [
    "history = model.fit_generator(\n",
    "    generator=train_generator,\n",
    "    epochs = 4,\n",
    "    validation_data=validation_generator,\n",
    "    callbacks=callbacks)"
   ]
  },
  {
   "cell_type": "markdown",
   "metadata": {},
   "source": [
    "## Model Accuracy and Loss Graphs\n",
    "\n",
    "These graphs will show us how our model performed\n",
    "\n",
    "We can get and idea of whether it is underfitting or overfitting\n",
    "\n",
    "You can also view these graphs in tensorboard"
   ]
  },
  {
   "cell_type": "code",
   "execution_count": 25,
   "metadata": {},
   "outputs": [],
   "source": [
    "import matplotlib.pyplot as plt"
   ]
  },
  {
   "cell_type": "code",
   "execution_count": 28,
   "metadata": {},
   "outputs": [
    {
     "data": {
      "image/png": "[encoded data removed]",
      "text/plain": [
       "<Figure size 432x288 with 1 Axes>"
      ]
     },
     "metadata": {
      "needs_background": "light"
     },
     "output_type": "display_data"
    }
   ],
   "source": [
    "# Summarize history for accuracy\n",
    "plt.plot(history.history['accuracy'])\n",
    "plt.plot(history.history['val_accuracy'])\n",
    "plt.title('model accuracy')\n",
    "plt.xlabel('epoch')\n",
    "plt.ylabel('accuracy')\n",
    "plt.legend(['train', 'test'], loc='upper left')\n",
    "plt.show()"
   ]
  },
  {
   "cell_type": "code",
   "execution_count": 29,
   "metadata": {},
   "outputs": [
    {
     "data": {
      "image/png": "[encoded data removed]",
      "text/plain": [
       "<Figure size 432x288 with 1 Axes>"
      ]
     },
     "metadata": {
      "needs_background": "light"
     },
     "output_type": "display_data"
    }
   ],
   "source": [
    "# Summarize history for accuracy\n",
    "plt.plot(history.history['loss'])\n",
    "plt.plot(history.history['val_loss'])\n",
    "plt.title('model loss')\n",
    "plt.xlabel('epoch')\n",
    "plt.ylabel('loss')\n",
    "plt.legend(['train', 'test'], loc='upper left')\n",
    "plt.show()"
   ]
  },
  {
   "cell_type": "markdown",
   "metadata": {},
   "source": [
    "## History Callback Gotcha\n",
    "\n",
    "If you use `load_model()` on your saved model and try to access history it will throw an error\n",
    "\n",
    "So if you want to see these graphs in a notebook you need to do it in the notebook you trained the model in"
   ]
  },
  {
   "cell_type": "code",
   "execution_count": null,
   "metadata": {},
   "outputs": [],
   "source": []
  }
 ],
 "metadata": {
  "kernelspec": {
   "display_name": "Python 3",
   "language": "python",
   "name": "python3"
  },
  "language_info": {
   "codemirror_mode": {
    "name": "ipython",
    "version": 3
   },
   "file_extension": ".py",
   "mimetype": "text/x-python",
   "name": "python",
   "nbconvert_exporter": "python",
   "pygments_lexer": "ipython3",
   "version": "3.7.8"
  }
 },
 "nbformat": 4,
 "nbformat_minor": 4
}
